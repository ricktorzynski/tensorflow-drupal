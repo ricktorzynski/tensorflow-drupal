{
  "nbformat": 4,
  "nbformat_minor": 0,
  "metadata": {
    "colab": {
      "name": "Book_Prediction.ipynb",
      "provenance": [],
      "collapsed_sections": [],
      "authorship_tag": "ABX9TyO8VMxHlFzgENxUQGXDO1Tv",
      "include_colab_link": true
    },
    "kernelspec": {
      "name": "python3",
      "display_name": "Python 3"
    },
    "language_info": {
      "name": "python"
    }
  },
  "cells": [
    {
      "cell_type": "markdown",
      "metadata": {
        "id": "view-in-github",
        "colab_type": "text"
      },
      "source": [
        "<a href=\"https://colab.research.google.com/github/ricktorzynski/tensorflow-drupal/blob/main/Book_Prediction.ipynb\" target=\"_parent\"><img src=\"https://colab.research.google.com/assets/colab-badge.svg\" alt=\"Open In Colab\"/></a>"
      ]
    },
    {
      "cell_type": "code",
      "metadata": {
        "id": "h1hMJQ7HRql7"
      },
      "source": [
        "import numpy as np\n",
        "import pandas as pd\n",
        "import matplotlib.pyplot as plt\n",
        "import os\n",
        "import warnings\n",
        "\n",
        "import tensorflow.keras as tf\n"
      ],
      "execution_count": null,
      "outputs": []
    },
    {
      "cell_type": "code",
      "metadata": {
        "id": "o5p27NAGTG_d"
      },
      "source": [
        "ratings_df = pd.read_csv(\"book-data/ratings.csv\")\n",
        "books_df = pd.read_csv(\"book-data/books.csv\")"
      ],
      "execution_count": null,
      "outputs": []
    },
    {
      "cell_type": "code",
      "metadata": {
        "id": "HJlfGSReTQIt"
      },
      "source": [
        "model = tf.models.load_model('model')"
      ],
      "execution_count": null,
      "outputs": []
    },
    {
      "cell_type": "code",
      "metadata": {
        "colab": {
          "base_uri": "https://localhost:8080/"
        },
        "id": "-9vkb8apUYLF",
        "outputId": "e0e6597e-1f8b-4731-f983-05b64ae8f062"
      },
      "source": [
        "model.summary()"
      ],
      "execution_count": null,
      "outputs": [
        {
          "output_type": "stream",
          "text": [
            "Model: \"model\"\n",
            "__________________________________________________________________________________________________\n",
            "Layer (type)                    Output Shape         Param #     Connected to                     \n",
            "==================================================================================================\n",
            "input_1 (InputLayer)            [(None, 1)]          0                                            \n",
            "__________________________________________________________________________________________________\n",
            "input_2 (InputLayer)            [(None, 1)]          0                                            \n",
            "__________________________________________________________________________________________________\n",
            "embedding (Embedding)           (None, 1, 30)        300030      input_1[0][0]                    \n",
            "__________________________________________________________________________________________________\n",
            "embedding_1 (Embedding)         (None, 1, 30)        1602750     input_2[0][0]                    \n",
            "__________________________________________________________________________________________________\n",
            "flatten (Flatten)               (None, 30)           0           embedding[0][0]                  \n",
            "__________________________________________________________________________________________________\n",
            "flatten_1 (Flatten)             (None, 30)           0           embedding_1[0][0]                \n",
            "__________________________________________________________________________________________________\n",
            "concatenate (Concatenate)       (None, 60)           0           flatten[0][0]                    \n",
            "                                                                 flatten_1[0][0]                  \n",
            "__________________________________________________________________________________________________\n",
            "dense (Dense)                   (None, 300)          18300       concatenate[0][0]                \n",
            "__________________________________________________________________________________________________\n",
            "dense_1 (Dense)                 (None, 1)            301         dense[0][0]                      \n",
            "==================================================================================================\n",
            "Total params: 1,921,381\n",
            "Trainable params: 1,921,381\n",
            "Non-trainable params: 0\n",
            "__________________________________________________________________________________________________\n"
          ],
          "name": "stdout"
        }
      ]
    },
    {
      "cell_type": "code",
      "metadata": {
        "colab": {
          "base_uri": "https://localhost:8080/"
        },
        "id": "jFH0uCO_UibG",
        "outputId": "183c5fbc-c98f-46e3-c964-86a5ae00f82f"
      },
      "source": [
        "# Extract embeddings\n",
        "book_em = model.get_layer('embedding')\n",
        "book_em_weights = book_em.get_weights()[0]\n",
        "book_em_weights.shape\n"
      ],
      "execution_count": null,
      "outputs": [
        {
          "output_type": "execute_result",
          "data": {
            "text/plain": [
              "(10001, 30)"
            ]
          },
          "metadata": {
            "tags": []
          },
          "execution_count": 8
        }
      ]
    },
    {
      "cell_type": "code",
      "metadata": {
        "id": "KJvPATBmVWmy"
      },
      "source": [
        "books_df_copy = books_df.copy()\n",
        "books_df_copy = books_df_copy.set_index(\"book_id\")"
      ],
      "execution_count": null,
      "outputs": []
    },
    {
      "cell_type": "code",
      "metadata": {
        "id": "fLOWu-BbVYfh"
      },
      "source": [
        "b_id =list(ratings_df.book_id.unique())\n",
        "b_id.remove(10000)\n",
        "dict_map = {}\n",
        "for i in b_id:\n",
        "    dict_map[i] = books_df_copy.iloc[i]['title']\n",
        "    \n",
        "out_v = open('vecs.tsv', 'w')\n",
        "out_m = open('meta.tsv', 'w')\n",
        "for i in b_id:\n",
        "    book = dict_map[i]\n",
        "    embeddings = book_em_weights[i]\n",
        "    out_m.write(book + \"\\n\")\n",
        "    out_v.write('\\t'.join([str(x) for x in embeddings]) + \"\\n\")\n",
        "    \n",
        "out_v.close()\n",
        "out_m.close()"
      ],
      "execution_count": null,
      "outputs": []
    },
    {
      "cell_type": "code",
      "metadata": {
        "colab": {
          "base_uri": "https://localhost:8080/"
        },
        "id": "cK5IfjQTWHCv",
        "outputId": "ea838341-d64d-4d5e-8d78-8231ce9657ca"
      },
      "source": [
        "#Making recommendations for user 100\n",
        "book_arr = np.array(b_id) #get all book IDs\n",
        "user = np.array([100 for i in range(len(b_id))])\n",
        "pred = model.predict([book_arr, user])\n",
        "pred"
      ],
      "execution_count": null,
      "outputs": [
        {
          "output_type": "execute_result",
          "data": {
            "text/plain": [
              "array([[3.4477377],\n",
              "       [3.1564796],\n",
              "       [3.305841 ],\n",
              "       ...,\n",
              "       [3.107275 ],\n",
              "       [3.1836162],\n",
              "       [3.0474133]], dtype=float32)"
            ]
          },
          "metadata": {
            "tags": []
          },
          "execution_count": 11
        }
      ]
    },
    {
      "cell_type": "code",
      "metadata": {
        "colab": {
          "base_uri": "https://localhost:8080/"
        },
        "id": "LqCRs2rqWImQ",
        "outputId": "1d7e6ed6-16b1-463c-e576-6ed8e47120fa"
      },
      "source": [
        "pred = pred.reshape(-1) #reshape to single dimension\n",
        "pred_ids = (-pred).argsort()[0:5]\n",
        "pred_ids"
      ],
      "execution_count": null,
      "outputs": [
        {
          "output_type": "execute_result",
          "data": {
            "text/plain": [
              "array([ 479,  950, 7886, 4388,  948])"
            ]
          },
          "metadata": {
            "tags": []
          },
          "execution_count": 12
        }
      ]
    },
    {
      "cell_type": "code",
      "metadata": {
        "colab": {
          "base_uri": "https://localhost:8080/",
          "height": 479
        },
        "id": "GJ8xbFJlWUob",
        "outputId": "4575495b-7276-41ff-df69-629bd4b91445"
      },
      "source": [
        "books_df.iloc[pred_ids]"
      ],
      "execution_count": null,
      "outputs": [
        {
          "output_type": "execute_result",
          "data": {
            "text/html": [
              "<div>\n",
              "<style scoped>\n",
              "    .dataframe tbody tr th:only-of-type {\n",
              "        vertical-align: middle;\n",
              "    }\n",
              "\n",
              "    .dataframe tbody tr th {\n",
              "        vertical-align: top;\n",
              "    }\n",
              "\n",
              "    .dataframe thead th {\n",
              "        text-align: right;\n",
              "    }\n",
              "</style>\n",
              "<table border=\"1\" class=\"dataframe\">\n",
              "  <thead>\n",
              "    <tr style=\"text-align: right;\">\n",
              "      <th></th>\n",
              "      <th>book_id</th>\n",
              "      <th>goodreads_book_id</th>\n",
              "      <th>best_book_id</th>\n",
              "      <th>work_id</th>\n",
              "      <th>books_count</th>\n",
              "      <th>isbn</th>\n",
              "      <th>isbn13</th>\n",
              "      <th>authors</th>\n",
              "      <th>original_publication_year</th>\n",
              "      <th>original_title</th>\n",
              "      <th>title</th>\n",
              "      <th>language_code</th>\n",
              "      <th>average_rating</th>\n",
              "      <th>ratings_count</th>\n",
              "      <th>work_ratings_count</th>\n",
              "      <th>work_text_reviews_count</th>\n",
              "      <th>ratings_1</th>\n",
              "      <th>ratings_2</th>\n",
              "      <th>ratings_3</th>\n",
              "      <th>ratings_4</th>\n",
              "      <th>ratings_5</th>\n",
              "      <th>image_url</th>\n",
              "      <th>small_image_url</th>\n",
              "    </tr>\n",
              "  </thead>\n",
              "  <tbody>\n",
              "    <tr>\n",
              "      <th>479</th>\n",
              "      <td>480</td>\n",
              "      <td>18122</td>\n",
              "      <td>18122</td>\n",
              "      <td>1774510</td>\n",
              "      <td>42</td>\n",
              "      <td>440238153</td>\n",
              "      <td>9.780440e+12</td>\n",
              "      <td>Philip Pullman</td>\n",
              "      <td>2000.0</td>\n",
              "      <td>The Amber Spyglass</td>\n",
              "      <td>The Amber Spyglass (His Dark Materials, #3)</td>\n",
              "      <td>eng</td>\n",
              "      <td>4.06</td>\n",
              "      <td>192315</td>\n",
              "      <td>217610</td>\n",
              "      <td>6693</td>\n",
              "      <td>4739</td>\n",
              "      <td>11883</td>\n",
              "      <td>39131</td>\n",
              "      <td>70648</td>\n",
              "      <td>91209</td>\n",
              "      <td>https://images.gr-assets.com/books/1329189152m...</td>\n",
              "      <td>https://images.gr-assets.com/books/1329189152s...</td>\n",
              "    </tr>\n",
              "    <tr>\n",
              "      <th>950</th>\n",
              "      <td>951</td>\n",
              "      <td>22283</td>\n",
              "      <td>7076703</td>\n",
              "      <td>1602338</td>\n",
              "      <td>63</td>\n",
              "      <td>009928264X</td>\n",
              "      <td>9.780099e+12</td>\n",
              "      <td>Chuck Palahniuk</td>\n",
              "      <td>1999.0</td>\n",
              "      <td>Survivor</td>\n",
              "      <td>Survivor</td>\n",
              "      <td>en-US</td>\n",
              "      <td>3.93</td>\n",
              "      <td>49551</td>\n",
              "      <td>88231</td>\n",
              "      <td>3078</td>\n",
              "      <td>903</td>\n",
              "      <td>4759</td>\n",
              "      <td>20844</td>\n",
              "      <td>34767</td>\n",
              "      <td>26958</td>\n",
              "      <td>https://images.gr-assets.com/books/1327346693m...</td>\n",
              "      <td>https://images.gr-assets.com/books/1327346693s...</td>\n",
              "    </tr>\n",
              "    <tr>\n",
              "      <th>7886</th>\n",
              "      <td>7887</td>\n",
              "      <td>13451</td>\n",
              "      <td>13451</td>\n",
              "      <td>3048970</td>\n",
              "      <td>28</td>\n",
              "      <td>067103264X</td>\n",
              "      <td>9.780671e+12</td>\n",
              "      <td>Stephen King</td>\n",
              "      <td>1999.0</td>\n",
              "      <td>Storm of the Century: An Original Screenplay</td>\n",
              "      <td>Storm of the Century: An Original Screenplay</td>\n",
              "      <td>NaN</td>\n",
              "      <td>3.86</td>\n",
              "      <td>14629</td>\n",
              "      <td>15343</td>\n",
              "      <td>265</td>\n",
              "      <td>257</td>\n",
              "      <td>1120</td>\n",
              "      <td>4087</td>\n",
              "      <td>5005</td>\n",
              "      <td>4874</td>\n",
              "      <td>https://s.gr-assets.com/assets/nophoto/book/11...</td>\n",
              "      <td>https://s.gr-assets.com/assets/nophoto/book/50...</td>\n",
              "    </tr>\n",
              "    <tr>\n",
              "      <th>4388</th>\n",
              "      <td>4389</td>\n",
              "      <td>2815949</td>\n",
              "      <td>2815949</td>\n",
              "      <td>2841882</td>\n",
              "      <td>6</td>\n",
              "      <td>1400054354</td>\n",
              "      <td>9.781400e+12</td>\n",
              "      <td>Ina Garten, Quentin Bacon</td>\n",
              "      <td>2008.0</td>\n",
              "      <td>Barefoot Contessa Back to Basics</td>\n",
              "      <td>Barefoot Contessa Back to Basics</td>\n",
              "      <td>eng</td>\n",
              "      <td>4.23</td>\n",
              "      <td>22228</td>\n",
              "      <td>22305</td>\n",
              "      <td>199</td>\n",
              "      <td>654</td>\n",
              "      <td>708</td>\n",
              "      <td>2960</td>\n",
              "      <td>6541</td>\n",
              "      <td>11442</td>\n",
              "      <td>https://s.gr-assets.com/assets/nophoto/book/11...</td>\n",
              "      <td>https://s.gr-assets.com/assets/nophoto/book/50...</td>\n",
              "    </tr>\n",
              "    <tr>\n",
              "      <th>948</th>\n",
              "      <td>949</td>\n",
              "      <td>13895</td>\n",
              "      <td>13895</td>\n",
              "      <td>588034</td>\n",
              "      <td>56</td>\n",
              "      <td>1857232097</td>\n",
              "      <td>9.781857e+12</td>\n",
              "      <td>Robert Jordan</td>\n",
              "      <td>1993.0</td>\n",
              "      <td>The Fires of Heaven</td>\n",
              "      <td>The Fires of Heaven (Wheel of Time, #5)</td>\n",
              "      <td>en-US</td>\n",
              "      <td>4.13</td>\n",
              "      <td>93227</td>\n",
              "      <td>104317</td>\n",
              "      <td>1864</td>\n",
              "      <td>863</td>\n",
              "      <td>3367</td>\n",
              "      <td>18885</td>\n",
              "      <td>39542</td>\n",
              "      <td>41660</td>\n",
              "      <td>https://images.gr-assets.com/books/1327866286m...</td>\n",
              "      <td>https://images.gr-assets.com/books/1327866286s...</td>\n",
              "    </tr>\n",
              "  </tbody>\n",
              "</table>\n",
              "</div>"
            ],
            "text/plain": [
              "      book_id  ...                                    small_image_url\n",
              "479       480  ...  https://images.gr-assets.com/books/1329189152s...\n",
              "950       951  ...  https://images.gr-assets.com/books/1327346693s...\n",
              "7886     7887  ...  https://s.gr-assets.com/assets/nophoto/book/50...\n",
              "4388     4389  ...  https://s.gr-assets.com/assets/nophoto/book/50...\n",
              "948       949  ...  https://images.gr-assets.com/books/1327866286s...\n",
              "\n",
              "[5 rows x 23 columns]"
            ]
          },
          "metadata": {
            "tags": []
          },
          "execution_count": 13
        }
      ]
    },
    {
      "cell_type": "code",
      "metadata": {
        "colab": {
          "base_uri": "https://localhost:8080/",
          "height": 289
        },
        "id": "eVN9VB9QWbdq",
        "outputId": "c8fc2bd3-409a-481c-d280-091e925ab568"
      },
      "source": [
        "web_book_data = books_df[[\"book_id\", \"title\", \"image_url\", \"authors\", \"original_publication_year\"]]\n",
        "web_book_data = web_book_data.sort_values('book_id')\n",
        "web_book_data.head()"
      ],
      "execution_count": null,
      "outputs": [
        {
          "output_type": "execute_result",
          "data": {
            "text/html": [
              "<div>\n",
              "<style scoped>\n",
              "    .dataframe tbody tr th:only-of-type {\n",
              "        vertical-align: middle;\n",
              "    }\n",
              "\n",
              "    .dataframe tbody tr th {\n",
              "        vertical-align: top;\n",
              "    }\n",
              "\n",
              "    .dataframe thead th {\n",
              "        text-align: right;\n",
              "    }\n",
              "</style>\n",
              "<table border=\"1\" class=\"dataframe\">\n",
              "  <thead>\n",
              "    <tr style=\"text-align: right;\">\n",
              "      <th></th>\n",
              "      <th>book_id</th>\n",
              "      <th>title</th>\n",
              "      <th>image_url</th>\n",
              "      <th>authors</th>\n",
              "      <th>original_publication_year</th>\n",
              "    </tr>\n",
              "  </thead>\n",
              "  <tbody>\n",
              "    <tr>\n",
              "      <th>0</th>\n",
              "      <td>1</td>\n",
              "      <td>The Hunger Games (The Hunger Games, #1)</td>\n",
              "      <td>https://images.gr-assets.com/books/1447303603m...</td>\n",
              "      <td>Suzanne Collins</td>\n",
              "      <td>2008.0</td>\n",
              "    </tr>\n",
              "    <tr>\n",
              "      <th>1</th>\n",
              "      <td>2</td>\n",
              "      <td>Harry Potter and the Sorcerer's Stone (Harry P...</td>\n",
              "      <td>https://images.gr-assets.com/books/1474154022m...</td>\n",
              "      <td>J.K. Rowling, Mary GrandPré</td>\n",
              "      <td>1997.0</td>\n",
              "    </tr>\n",
              "    <tr>\n",
              "      <th>2</th>\n",
              "      <td>3</td>\n",
              "      <td>Twilight (Twilight, #1)</td>\n",
              "      <td>https://images.gr-assets.com/books/1361039443m...</td>\n",
              "      <td>Stephenie Meyer</td>\n",
              "      <td>2005.0</td>\n",
              "    </tr>\n",
              "    <tr>\n",
              "      <th>3</th>\n",
              "      <td>4</td>\n",
              "      <td>To Kill a Mockingbird</td>\n",
              "      <td>https://images.gr-assets.com/books/1361975680m...</td>\n",
              "      <td>Harper Lee</td>\n",
              "      <td>1960.0</td>\n",
              "    </tr>\n",
              "    <tr>\n",
              "      <th>4</th>\n",
              "      <td>5</td>\n",
              "      <td>The Great Gatsby</td>\n",
              "      <td>https://images.gr-assets.com/books/1490528560m...</td>\n",
              "      <td>F. Scott Fitzgerald</td>\n",
              "      <td>1925.0</td>\n",
              "    </tr>\n",
              "  </tbody>\n",
              "</table>\n",
              "</div>"
            ],
            "text/plain": [
              "   book_id  ... original_publication_year\n",
              "0        1  ...                    2008.0\n",
              "1        2  ...                    1997.0\n",
              "2        3  ...                    2005.0\n",
              "3        4  ...                    1960.0\n",
              "4        5  ...                    1925.0\n",
              "\n",
              "[5 rows x 5 columns]"
            ]
          },
          "metadata": {
            "tags": []
          },
          "execution_count": 15
        }
      ]
    },
    {
      "cell_type": "code",
      "metadata": {
        "id": "CFNktlAOWu5e"
      },
      "source": [
        "web_book_data.to_json(r'web_book_data.json', orient='records')"
      ],
      "execution_count": null,
      "outputs": []
    },
    {
      "cell_type": "code",
      "metadata": {
        "id": "9CMsX5SjXLCo"
      },
      "source": [
        ""
      ],
      "execution_count": null,
      "outputs": []
    }
  ]
}